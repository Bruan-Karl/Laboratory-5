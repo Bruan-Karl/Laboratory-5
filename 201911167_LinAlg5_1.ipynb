{
  "nbformat": 4,
  "nbformat_minor": 0,
  "metadata": {
    "colab": {
      "name": "201911167_LinAlg5.1",
      "provenance": [],
      "authorship_tag": "ABX9TyP/ecWENDvzIqJGBc8xvwaM",
      "include_colab_link": true
    },
    "kernelspec": {
      "name": "python3",
      "display_name": "Python 3"
    },
    "language_info": {
      "name": "python"
    }
  },
  "cells": [
    {
      "cell_type": "markdown",
      "metadata": {
        "id": "view-in-github",
        "colab_type": "text"
      },
      "source": [
        "<a href=\"https://colab.research.google.com/github/R0ckie/Laboratory-5/blob/main/201911167_LinAlg5_1.ipynb\" target=\"_parent\"><img src=\"https://colab.research.google.com/assets/colab-badge.svg\" alt=\"Open In Colab\"/></a>"
      ]
    },
    {
      "cell_type": "markdown",
      "metadata": {
        "id": "2H06dChr7aJ4"
      },
      "source": [
        "Task 1"
      ]
    },
    {
      "cell_type": "markdown",
      "metadata": {
        "id": "AdwOEcR_7zqJ"
      },
      "source": [
        "$$\n",
        "K = -11x + 4y  \\\\\n",
        "L = 9x -13y\n",
        "$$\n",
        "\n",
        "$$\n",
        "$$\n",
        "\n",
        "$$\n",
        "B = \\begin {bmatrix}\\ -11 \\ 9 \\\\ 4 \\ -13 \\ \\end{bmatrix} $$\n",
        "\n",
        "$$\n",
        "$$\n",
        "\n",
        "$$\n",
        "B = \\left\\{\n",
        "    \\begin{array}\\\\\n",
        "        -11x + 4y \\\\ \n",
        "        9x - 3y\n",
        "    \\end{array}\n",
        "\\right. $$\n",
        "\n"
      ]
    },
    {
      "cell_type": "code",
      "metadata": {
        "id": "0KJriuI97Usi"
      },
      "source": [
        "import numpy as np\n",
        "import matplotlib.pyplot as plt\n",
        "#%matplotlib inline"
      ],
      "execution_count": null,
      "outputs": []
    },
    {
      "cell_type": "code",
      "metadata": {
        "colab": {
          "base_uri": "https://localhost:8080/",
          "height": 269
        },
        "id": "i0M5jfMG8xn7",
        "outputId": "294bb9c3-53d2-4c00-8891-7a44d9b4e9d2"
      },
      "source": [
        "L = np.array([\n",
        "              [-11, 9,],\n",
        "              [4, -13]\n",
        "])\n",
        "\n",
        "#print(L.ndim)\n",
        "\n",
        "plt.xlim(-15,15)\n",
        "plt.ylim(-15,15)\n",
        "plt.quiver([0,0], [0,0], L[:,0], L[:,1],\n",
        "           angles = 'xy', scale_units = 'xy', scale=1.5, color = ['green', 'red'] )\n",
        "plt.show()"
      ],
      "execution_count": null,
      "outputs": [
        {
          "output_type": "display_data",
          "data": {
            "image/png": "[encoded data removed]",
            "text/plain": [
              "<Figure size 432x288 with 1 Axes>"
            ]
          },
          "metadata": {
            "tags": [],
            "needs_background": "light"
          }
        }
      ]
    }
  ]
}